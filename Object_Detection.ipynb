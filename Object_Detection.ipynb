{
 "cells": [
  {
   "cell_type": "code",
   "execution_count": 1,
   "id": "e59d19f3",
   "metadata": {},
   "outputs": [
    {
     "name": "stdout",
     "output_type": "stream",
     "text": [
      "Requirement already satisfied: opencv-python in c:\\users\\sandeep\\anaconda3\\lib\\site-packages (4.8.0.74)Note: you may need to restart the kernel to use updated packages.\n",
      "\n",
      "Requirement already satisfied: numpy>=1.21.2 in c:\\users\\sandeep\\anaconda3\\lib\\site-packages (from opencv-python) (1.24.3)\n"
     ]
    }
   ],
   "source": [
    "pip install opencv-python\n"
   ]
  },
  {
   "cell_type": "code",
   "execution_count": 2,
   "id": "4c023ad2",
   "metadata": {},
   "outputs": [],
   "source": [
    "import cv2\n",
    "import numpy as np"
   ]
  },
  {
   "cell_type": "code",
   "execution_count": 3,
   "id": "ee075b1a",
   "metadata": {},
   "outputs": [],
   "source": [
    "# Load YOLO model and configuration\n",
    "net = cv2.dnn.readNet('yolov3.weights', 'yolov3.cfg')\n",
    "classes = []\n",
    "with open('coco.names', 'r') as f:\n",
    "    classes = [line.strip() for line in f.readlines()]\n",
    "layer_names = net.getLayerNames()\n",
    "output_layers = [layer_names[i - 1] for i in net.getUnconnectedOutLayers()]"
   ]
  },
  {
   "cell_type": "code",
   "execution_count": 4,
   "id": "0e50589c",
   "metadata": {},
   "outputs": [],
   "source": [
    "# Define a color map for each class\n",
    "num_classes = len(classes)\n",
    "class_colors = np.random.uniform(0, 255, size=(num_classes, 3))"
   ]
  },
  {
   "cell_type": "code",
   "execution_count": 155,
   "id": "7b8729c6",
   "metadata": {},
   "outputs": [],
   "source": [
    "# Load image\n",
    "image = cv2.imread('112.jpg')"
   ]
  },
  {
   "cell_type": "code",
   "execution_count": 156,
   "id": "9fca4554",
   "metadata": {},
   "outputs": [],
   "source": [
    "# Decrease the frame size (optional)\n",
    "frame_width = 800\n",
    "frame_height = 600\n",
    "image = cv2.resize(image, (frame_width, frame_height))"
   ]
  },
  {
   "cell_type": "code",
   "execution_count": 157,
   "id": "f584dab6",
   "metadata": {},
   "outputs": [],
   "source": [
    "# Get image dimensions\n",
    "height, width, channels = image.shape"
   ]
  },
  {
   "cell_type": "code",
   "execution_count": 158,
   "id": "966a8115",
   "metadata": {},
   "outputs": [],
   "source": [
    "# Detect objects in the image\n",
    "blob = cv2.dnn.blobFromImage(image, 0.00392, (416, 416), (0, 0, 0), True, crop=False)\n",
    "net.setInput(blob)\n",
    "outs = net.forward(output_layers)"
   ]
  },
  {
   "cell_type": "code",
   "execution_count": 159,
   "id": "8e4d3d6e",
   "metadata": {},
   "outputs": [],
   "source": [
    "# Process the detected objects\n",
    "class_ids = []\n",
    "confidences = []\n",
    "boxes = []\n",
    "for out in outs:\n",
    "    for detection in out:\n",
    "        scores = detection[5:]\n",
    "        class_id = np.argmax(scores)\n",
    "        confidence = scores[class_id]\n",
    "        if confidence > 0.5:  # Change the confidence threshold as needed\n",
    "            # Object detected\n",
    "            center_x = int(detection[0] * width)\n",
    "            center_y = int(detection[1] * height)\n",
    "            w = int(detection[2] * width)\n",
    "            h = int(detection[3] * height)\n",
    "            # Rectangle coordinates\n",
    "            x = int(center_x - w / 2)\n",
    "            y = int(center_y - h / 2)\n",
    "            boxes.append([x, y, w, h])\n",
    "            confidences.append(float(confidence))\n",
    "            class_ids.append(class_id)"
   ]
  },
  {
   "cell_type": "code",
   "execution_count": 160,
   "id": "3a8db077",
   "metadata": {},
   "outputs": [],
   "source": [
    "# Find unique class IDs\n",
    "unique_class_ids = list(set(class_ids))"
   ]
  },
  {
   "cell_type": "code",
   "execution_count": 161,
   "id": "c6d29543",
   "metadata": {},
   "outputs": [],
   "source": [
    "# Assign unique colors to each class\n",
    "class_colors_unique = class_colors[unique_class_ids]"
   ]
  },
  {
   "cell_type": "code",
   "execution_count": 162,
   "id": "9c31ca5c",
   "metadata": {},
   "outputs": [],
   "source": [
    "# Non-maximum suppression to get rid of overlapping boxes\n",
    "indexes = cv2.dnn.NMSBoxes(boxes, confidences, 0.5, 0.4)"
   ]
  },
  {
   "cell_type": "code",
   "execution_count": 163,
   "id": "da68efac",
   "metadata": {},
   "outputs": [],
   "source": [
    "# Draw the boxes and labels on the image with different colors\n",
    "font = cv2.FONT_HERSHEY_PLAIN\n",
    "for i in range(len(boxes)):\n",
    "    if i in indexes:\n",
    "        x, y, w, h = boxes[i]\n",
    "        label = str(classes[class_ids[i]])\n",
    "        confidence = confidences[i]\n",
    "        # Get the color corresponding to the class ID\n",
    "        color = class_colors_unique[unique_class_ids.index(class_ids[i])].tolist()\n",
    "        cv2.rectangle(image, (x, y), (x + w, y + h), color, 2)\n",
    "        cv2.putText(image, f\"{label} {confidence:.2f}\", (x, y + 30), font, 1, color, 2)"
   ]
  },
  {
   "cell_type": "code",
   "execution_count": 164,
   "id": "83dc1eae",
   "metadata": {},
   "outputs": [],
   "source": [
    "# Display the result\n",
    "cv2.imshow(\"Object Detection\", image)\n",
    "cv2.waitKey(0)\n",
    "cv2.destroyAllWindows()"
   ]
  },
  {
   "cell_type": "code",
   "execution_count": null,
   "id": "1708caee",
   "metadata": {},
   "outputs": [],
   "source": []
  },
  {
   "cell_type": "code",
   "execution_count": null,
   "id": "7953b1dc",
   "metadata": {},
   "outputs": [],
   "source": []
  }
 ],
 "metadata": {
  "kernelspec": {
   "display_name": "Python 3 (ipykernel)",
   "language": "python",
   "name": "python3"
  },
  "language_info": {
   "codemirror_mode": {
    "name": "ipython",
    "version": 3
   },
   "file_extension": ".py",
   "mimetype": "text/x-python",
   "name": "python",
   "nbconvert_exporter": "python",
   "pygments_lexer": "ipython3",
   "version": "3.11.3"
  }
 },
 "nbformat": 4,
 "nbformat_minor": 5
}
