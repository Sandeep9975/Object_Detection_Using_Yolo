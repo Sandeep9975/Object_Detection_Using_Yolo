{
 "cells": [
  {
   "cell_type": "code",
   "execution_count": 1,
   "id": "6f8b828f",
   "metadata": {},
   "outputs": [
    {
     "name": "stdout",
     "output_type": "stream",
     "text": [
      "Requirement already satisfied: opencv-python in c:\\users\\sandeep\\anaconda3\\lib\\site-packages (4.8.0.74)\n",
      "Requirement already satisfied: numpy>=1.21.2 in c:\\users\\sandeep\\anaconda3\\lib\\site-packages (from opencv-python) (1.24.3)\n",
      "Note: you may need to restart the kernel to use updated packages.\n"
     ]
    }
   ],
   "source": [
    "pip install opencv-python\n"
   ]
  },
  {
   "cell_type": "code",
   "execution_count": 2,
   "id": "a6f7cfe0",
   "metadata": {},
   "outputs": [
    {
     "name": "stdout",
     "output_type": "stream",
     "text": [
      "Requirement already satisfied: tk in c:\\users\\sandeep\\anaconda3\\lib\\site-packages (0.1.0)Note: you may need to restart the kernel to use updated packages.\n",
      "\n"
     ]
    }
   ],
   "source": [
    "pip install tk\n"
   ]
  },
  {
   "cell_type": "code",
   "execution_count": 3,
   "id": "5b980351",
   "metadata": {},
   "outputs": [],
   "source": [
    "import cv2\n",
    "import numpy as np\n",
    "import tkinter as tk\n",
    "from tkinter import filedialog, messagebox\n",
    "from matplotlib.backends.backend_tkagg import FigureCanvasTkAgg\n",
    "import matplotlib.pyplot as plt\n",
    "\n",
    "def perform_object_detection(image_path, output_directory):\n",
    "    # Load YOLO model and configuration\n",
    "    net = cv2.dnn.readNet('yolov3.weights', 'yolov3.cfg')\n",
    "    classes = []\n",
    "    with open('coco.names', 'r') as f:\n",
    "        classes = [line.strip() for line in f.readlines()]\n",
    "    layer_names = net.getLayerNames()\n",
    "    output_layers = [layer_names[i - 1] for i in net.getUnconnectedOutLayers()]\n",
    "\n",
    "    # Load image\n",
    "    image = cv2.imread(image_path)\n",
    "\n",
    "    # Decrease the frame size (optional)\n",
    "    frame_width = 800\n",
    "    frame_height = 600\n",
    "    image = cv2.resize(image, (frame_width, frame_height))\n",
    "\n",
    "    # Get image dimensions\n",
    "    height, width, channels = image.shape\n",
    "\n",
    "    # Detect objects in the image\n",
    "    blob = cv2.dnn.blobFromImage(image, 0.00392, (416, 416), (0, 0, 0), True, crop=False)\n",
    "    net.setInput(blob)\n",
    "    outs = net.forward(output_layers)\n",
    "\n",
    "    # Process the detected objects\n",
    "    class_ids = []\n",
    "    confidences = []\n",
    "    boxes = []\n",
    "    for out in outs:\n",
    "        for detection in out:\n",
    "            scores = detection[5:]\n",
    "            class_id = np.argmax(scores)\n",
    "            confidence = scores[class_id]\n",
    "            if confidence > 0.5:  # Change the confidence threshold as needed\n",
    "                # Object detected\n",
    "                center_x = int(detection[0] * width)\n",
    "                center_y = int(detection[1] * height)\n",
    "                w = int(detection[2] * width)\n",
    "                h = int(detection[3] * height)\n",
    "                # Rectangle coordinates\n",
    "                x = int(center_x - w / 2)\n",
    "                y = int(center_y - h / 2)\n",
    "                boxes.append([x, y, w, h])\n",
    "                confidences.append(float(confidence))\n",
    "                class_ids.append(class_id)\n",
    "\n",
    "    # Find unique class IDs\n",
    "    unique_class_ids = list(set(class_ids))\n",
    "\n",
    "    # Assign unique colors to each class\n",
    "    class_colors_unique = np.random.uniform(0, 255, size=(len(unique_class_ids), 3))\n",
    "\n",
    "    # Non-maximum suppression to get rid of overlapping boxes\n",
    "    indexes = cv2.dnn.NMSBoxes(boxes, confidences, 0.5, 0.4)\n",
    "\n",
    "    # Draw the boxes and labels on the image with different colors\n",
    "    for i in range(len(boxes)):\n",
    "        if i in indexes:\n",
    "            x, y, w, h = boxes[i]\n",
    "            label = str(classes[class_ids[i]])\n",
    "            confidence = confidences[i]\n",
    "            # Get the color corresponding to the class ID\n",
    "            color = class_colors_unique[unique_class_ids.index(class_ids[i])].tolist()\n",
    "            cv2.rectangle(image, (x, y), (x + w, y + h), color, 2)\n",
    "            cv2.putText(image, f\"{label} {confidence:.2f}\", (x, y + 30), cv2.FONT_HERSHEY_PLAIN, 1, color, 2)\n",
    "\n",
    "    # Save the result to the output directory\n",
    "    output_image_path = f\"{output_directory}/output_image.jpg\"\n",
    "    cv2.imwrite(output_image_path, cv2.cvtColor(image, cv2.COLOR_BGR2RGB))\n",
    "    messagebox.showinfo(\"Object Detection\", f\"Object detection completed. Result saved to:\\n{output_image_path}\")\n",
    "\n",
    "    # Display the result using matplotlib in GUI\n",
    "    display_image(output_image_path)\n",
    "\n",
    "def browse_image():\n",
    "    image_path = filedialog.askopenfilename(filetypes=[(\"Image files\", \"*.jpg;*.png\")])\n",
    "    if image_path:\n",
    "        output_directory = browse_output_directory()\n",
    "        if output_directory:\n",
    "            perform_object_detection(image_path, output_directory)\n",
    "\n",
    "def browse_output_directory():\n",
    "    selected_directory = filedialog.askdirectory()\n",
    "    return selected_directory\n",
    "\n",
    "def display_image(image_path):\n",
    "    # Display the result using matplotlib in GUI\n",
    "    fig, ax = plt.subplots(figsize=(8, 6))\n",
    "    ax.imshow(cv2.cvtColor(cv2.imread(image_path), cv2.COLOR_BGR2RGB))\n",
    "    ax.axis('off')  # Remove axis ticks and labels\n",
    "\n",
    "    canvas = FigureCanvasTkAgg(fig, master=root)\n",
    "    canvas.get_tk_widget().pack()\n",
    "\n",
    "# Create the GUI window\n",
    "root = tk.Tk()\n",
    "root.title(\"Object Detection using YOLO\")\n",
    "\n",
    "# Add widgets\n",
    "tk.Label(root, text=\"Object Detection using YOLO\", font=(\"Helvetica\", 16, \"bold\")).pack(pady=10)\n",
    "\n",
    "# Browse buttons\n",
    "tk.Button(root, text=\"Browse Image\", command=browse_image).pack(pady=10)\n",
    "\n",
    "# Run the GUI event loop\n",
    "root.mainloop()\n"
   ]
  },
  {
   "cell_type": "code",
   "execution_count": null,
   "id": "88111140",
   "metadata": {},
   "outputs": [],
   "source": []
  }
 ],
 "metadata": {
  "kernelspec": {
   "display_name": "Python 3 (ipykernel)",
   "language": "python",
   "name": "python3"
  },
  "language_info": {
   "codemirror_mode": {
    "name": "ipython",
    "version": 3
   },
   "file_extension": ".py",
   "mimetype": "text/x-python",
   "name": "python",
   "nbconvert_exporter": "python",
   "pygments_lexer": "ipython3",
   "version": "3.11.3"
  }
 },
 "nbformat": 4,
 "nbformat_minor": 5
}
